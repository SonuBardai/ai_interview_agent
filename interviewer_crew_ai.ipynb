{
 "cells": [
  {
   "cell_type": "code",
   "execution_count": 126,
   "metadata": {},
   "outputs": [
    {
     "data": {
      "text/plain": [
       "'\"\\nAgents\\n1. Interview researcher\\n   - Take the job description\\n   - Research and create interview questions\\n   - Come up with criteria for scoring the answers\\n2. Interview editor\\n    - Validates questions\\n    - Validates criteria for scoring\\n    - Cross verifies it\\'s relevance with the job description\\n3. Interviewer\\n    - Conducts interviews\\n    - Scores the answers based on the set criteria\\n'"
      ]
     },
     "execution_count": 126,
     "metadata": {},
     "output_type": "execute_result"
    }
   ],
   "source": [
    "\"\"\"\"\n",
    "Agents\n",
    "1. Interview researcher\n",
    "   - Take the job description\n",
    "   - Research and create interview questions\n",
    "   - Come up with criteria for scoring the answers\n",
    "2. Interview editor\n",
    "    - Validates questions\n",
    "    - Validates criteria for scoring\n",
    "    - Cross verifies it's relevance with the job description\n",
    "3. Interviewer\n",
    "    - Conducts interviews\n",
    "    - Scores the answers based on the set criteria\n",
    "\"\"\""
   ]
  },
  {
   "cell_type": "code",
   "execution_count": 127,
   "metadata": {},
   "outputs": [
    {
     "data": {
      "text/plain": [
       "True"
      ]
     },
     "execution_count": 127,
     "metadata": {},
     "output_type": "execute_result"
    }
   ],
   "source": [
    "from crewai import Agent, Task, Crew, LLM\n",
    "from crewai_tools import ScrapeWebsiteTool, SerperDevTool\n",
    "from dotenv import load_dotenv\n",
    "\n",
    "load_dotenv()"
   ]
  },
  {
   "cell_type": "code",
   "execution_count": 128,
   "metadata": {},
   "outputs": [],
   "source": [
    "model = \"llama3.2:1b\"\n",
    "ollama = LLM(model=f\"ollama/{model}\", base_url=\"http://localhost:11434\")"
   ]
  },
  {
   "cell_type": "code",
   "execution_count": 129,
   "metadata": {},
   "outputs": [],
   "source": [
    "search_tool = SerperDevTool()\n",
    "scrape_tool = ScrapeWebsiteTool()"
   ]
  },
  {
   "cell_type": "code",
   "execution_count": 130,
   "metadata": {},
   "outputs": [],
   "source": [
    "interview_researcher = Agent(\n",
    "    role=\"Interview Researcher\",\n",
    "    goal=\"Plan thorough and relevant interview questions and answer evaluation criteria based for the job of {job_title}\",\n",
    "    backstory=\"You are an expert in job role analysis and interview design. \"\n",
    "              \"You're working on planning the interview for the job of {job_title} and your task is to extract the key responsibilities, skills, and knowledge areas from this job description: \\n{job_description}\\n \"\n",
    "              \"Using this, you create a set of thoughtful, role-relevant interview questions. \"\n",
    "              \"You also define clear, objective criteria to score answers for each question based on depth, accuracy, and relevance. \"\n",
    "              \"Your output will be used by an Interview Editor to validate and refine the interview.\",\n",
    "    allow_delegation=False,\n",
    "    llm=ollama,\n",
    "    verbose=True,\n",
    ")"
   ]
  },
  {
   "cell_type": "code",
   "execution_count": 131,
   "metadata": {},
   "outputs": [],
   "source": [
    "interview_editor = Agent(\n",
    "    role=\"Interview Editor\",\n",
    "    goal=\"Ensure that interview questions and scoring criteria aligned with the job description and communicate with the Interview Researcher\",\n",
    "    backstory=\"You are a senior editor responsible for validating the quality and relevance of interview content. \"\n",
    "              \"You receive interview questions and answer-scoring criteria from the Interview Researcher for the job of {job_title}. \"\n",
    "              \"Your job is to cross-check them against the original job description: ({job_description}).\"\n",
    "              \"Ensure the interview questions and answering critera accurately assess key requirements. \"\n",
    "              \"You also verify clarity, fairness, and whether the scoring system enables consistent evaluation of candidates.\",\n",
    "    allow_delegation=False,\n",
    "    llm=ollama,\n",
    "    verbose=True,\n",
    "    tools=[search_tool, scrape_tool],  # tools to validate answer criteria\n",
    ")"
   ]
  },
  {
   "cell_type": "code",
   "execution_count": 132,
   "metadata": {},
   "outputs": [],
   "source": [
    "interviewee = Agent(\n",
    "    role=\"Interviewee\",\n",
    "    goal=\"Demonstrate technical expertise and problem-solving skills while showcasing professional demeanor and communication abilities\",\n",
    "    backstory=\"You are a seasoned Python developer with 7 years of experience. Your expertise includes backend development, API design, and system architecture. You have a strong foundation in Python programming, web frameworks, and database management. You are passionate about writing clean, maintainable code and have a track record of successful project delivery. You are comfortable discussing technical concepts and can explain complex ideas clearly.\",\n",
    "\n",
    "    # backstory=\"\"\"\n",
    "    # You are a recent college graduate with limited real-world Python experience.\n",
    "    # Your knowledge is primarily from academic courses and personal projects.\n",
    "    # You are familiar with basic Python syntax and some fundamental concepts,\n",
    "    # but lack experience with advanced topics and professional development practices.\n",
    "    # You have worked on small projects using Python, but haven't implemented\n",
    "    # complex systems or worked with enterprise-level applications.\n",
    "    # You are eager to learn and improve your skills, but may struggle with\n",
    "    # more advanced technical questions.\"\"\",\n",
    "\n",
    "    allow_delegation=False,\n",
    "    llm=ollama,\n",
    "    verbose=True,\n",
    ")"
   ]
  },
  {
   "cell_type": "code",
   "execution_count": 133,
   "metadata": {},
   "outputs": [],
   "source": [
    "interviewer = Agent(\n",
    "    role=\"Interviewer\",\n",
    "    goal=\"Conduct structured interviews and score candidate responses using provided criteria\",\n",
    "    backstory=\"You are a professional interviewer conducting job interviews based on pre-approved questions. \"\n",
    "              \"You ask the questions as they are written and actively listen to the candidate's responses. \"\n",
    "              \"After each answer, you score it using the criteria provided by the Interview Researcher and validated by the Interview Editor. \"\n",
    "              \"Your aim is to remain unbiased and consistent while capturing useful qualitative and quantitative data.\",\n",
    "    allow_delegation=False,\n",
    "    llm=ollama,\n",
    "    verbose=True,\n",
    "    tools=[search_tool, scrape_tool],  # tools to validate answers\n",
    ")\n"
   ]
  },
  {
   "cell_type": "code",
   "execution_count": 134,
   "metadata": {},
   "outputs": [],
   "source": [
    "from pydantic import BaseModel\n",
    "from enum import Enum\n",
    "\n",
    "class DifficultyLevel(Enum):\n",
    "    easy = \"easy\"\n",
    "    medium = \"medium\"\n",
    "    hard = \"hard\"\n",
    "\n",
    "class InterviewQuestion(BaseModel):\n",
    "    question: str\n",
    "    difficulty: str\n",
    "    answer_criteria: str\n",
    "\n",
    "class Answer(BaseModel):\n",
    "    question: str\n",
    "    answer: str\n",
    "\n",
    "class AnswerValidationOutput(BaseModel):\n",
    "    question: str\n",
    "    answer: str\n",
    "    score_out_of_10: float\n",
    "    feedback: str"
   ]
  },
  {
   "cell_type": "code",
   "execution_count": 135,
   "metadata": {},
   "outputs": [],
   "source": [
    "import json\n",
    "from typing import Tuple, Any\n",
    "\n",
    "def validate_json_output(result: str) -> Tuple[bool, Any]:\n",
    "    \"\"\"Validate that the output is valid JSON.\"\"\"\n",
    "    try:\n",
    "        json_data = json.loads(result)\n",
    "        return (True, json_data)\n",
    "    except json.JSONDecodeError:\n",
    "        return (False, \"Output must be valid JSON\")\n",
    "    except Exception as e:\n",
    "        return (False, {\"error\": str(e), \"code\": \"UNKNOWN_ERROR\", \"context\": {\"line\": e.lineno, \"column\": e.colno}})\n"
   ]
  },
  {
   "cell_type": "code",
   "execution_count": null,
   "metadata": {},
   "outputs": [],
   "source": [
    "research_task = Task(\n",
    "    description=\"Research and create three questions to be asked in a job interview for the job role of {job_title}. Analyze the job description and create relevant technical and behavioral questions that assess candidate competency. For each question, define clear scoring criteria that enables objective evaluation.\",\n",
    "    expected_output=\"Set of interview questions to conduct the job interview for the job\",\n",
    "\n",
    "    agent=interview_researcher,\n",
    "\n",
    "    output_json=InterviewQuestion,\n",
    "    # output_file=\"interview_questions.json\",  \n",
    "\n",
    "    # guardrail=validate_json_output,\n",
    ")"
   ]
  },
  {
   "cell_type": "code",
   "execution_count": 137,
   "metadata": {},
   "outputs": [],
   "source": [
    "editing_task = Task(\n",
    "    description=\"Review and validate the interview questions and scoring criteria created by the Interview Researcher. Ensure questions are clear, unbiased, and directly relevant to the job description. Verify that scoring criteria are objective, measurable, and enable consistent candidate evaluation. Provide feedback for any necessary improvements.\",\n",
    "    expected_output=\"The finalized set of interview qeustions\",\n",
    "\n",
    "    agent=interview_editor,\n",
    ")"
   ]
  },
  {
   "cell_type": "code",
   "execution_count": 138,
   "metadata": {},
   "outputs": [],
   "source": [
    "answer_questions_task = Task(\n",
    "    description=\"Respond to interview questions with your skillset. Demonstrate your understanding of Python concepts, problem-solving skills, and practical experience. When appropriate, provide examples from your work or personal projects to support your answers.\",\n",
    "\n",
    "    expected_output=\"Answers to the interview questions\",\n",
    "  \n",
    "\n",
    "    agent=interviewee,\n",
    "\n",
    "    output_json=Answer,\n",
    "    # output_file=\"answers.json\",\n",
    "\n",
    "    # guardrail=validate_json_output,\n",
    ")"
   ]
  },
  {
   "cell_type": "code",
   "execution_count": 139,
   "metadata": {},
   "outputs": [],
   "source": [
    "interview_answers_validator_task = Task(\n",
    "    description=\"Validate the answers provided by the interviewee for the questions provided, use the answering criteria to score the responses and provide a helpful feedback based for the response\",\n",
    "    expected_output=\"A final report with the questions, answers provided by the applicant, numeric score for the answer, and the feedback.\",\n",
    "\n",
    "\n",
    "    agent=interviewer,\n",
    "\n",
    "    output_json=AnswerValidationOutput,\n",
    "    # output_file=\"final.json\",\n",
    "\n",
    "    # guardrail=validate_json_output,\n",
    ")"
   ]
  },
  {
   "cell_type": "code",
   "execution_count": 143,
   "metadata": {},
   "outputs": [],
   "source": [
    "interviewer_crew = Crew(\n",
    "    agents=[\n",
    "        interview_researcher,\n",
    "        # interview_editor,\n",
    "        # interviewee, interviewer,\n",
    "    ],\n",
    "    tasks=[\n",
    "        research_task,\n",
    "        # editing_task,\n",
    "        # answer_questions_task,\n",
    "        # interview_answers_validator_task,\n",
    "    ],\n",
    "    verbose=True,\n",
    ")"
   ]
  },
  {
   "cell_type": "code",
   "execution_count": 144,
   "metadata": {},
   "outputs": [],
   "source": [
    "job_details = {\n",
    "    'job_title': \"Senior Python Developer\",\n",
    "    'job_description': \"\"\"\n",
    "We are seeking a Senior Python Developer to join our engineering team. The ideal candidate will design, develop, and maintain scalable Python applications while mentoring junior developers.\n",
    "\n",
    "Key Responsibilities:\n",
    "- Design and implement high-performance, scalable Python applications\n",
    "- Write clean, maintainable, and well-tested code using Python best practices\n",
    "- Develop and optimize backend services and APIs\n",
    "- Integrate various data storage solutions and third-party services\n",
    "- Participate in code reviews and contribute to technical architecture decisions\n",
    "- Mentor junior developers and promote best coding practices\n",
    "\n",
    "Required Skills:\n",
    "- 5+ years of professional Python development experience\n",
    "- Strong knowledge of Python 3.x, OOP principles, and design patterns\n",
    "- Experience with web frameworks (Django, FastAPI, or Flask)\n",
    "- Proficiency in working with SQL and NoSQL databases\n",
    "- Familiarity with RESTful APIs and microservices architecture\n",
    "- Experience with version control systems (Git)\n",
    "- Strong understanding of software testing principles\n",
    "- Knowledge of containerization (Docker) and CI/CD pipelines\n",
    "\n",
    "Nice to Have:\n",
    "- Experience with async Python programming\n",
    "- Knowledge of cloud platforms (AWS, GCP, or Azure)\n",
    "- Contributions to open-source projects\n",
    "- Experience with Python data science libraries\n",
    "- Background in Agile development methodologies\n",
    "\n",
    "We offer a collaborative environment, opportunities for professional growth, and the chance to work on challenging projects using cutting-edge technologies.\"\"\"\n",
    "}"
   ]
  },
  {
   "cell_type": "code",
   "execution_count": 145,
   "metadata": {},
   "outputs": [
    {
     "data": {
      "text/html": [
       "<pre style=\"white-space:pre;overflow-x:auto;line-height:normal;font-family:Menlo,'DejaVu Sans Mono',consolas,'Courier New',monospace\"><span style=\"color: #008080; text-decoration-color: #008080\">╭──────────────────────────────────────────── Crew Execution Started ─────────────────────────────────────────────╮</span>\n",
       "<span style=\"color: #008080; text-decoration-color: #008080\">│</span>                                                                                                                 <span style=\"color: #008080; text-decoration-color: #008080\">│</span>\n",
       "<span style=\"color: #008080; text-decoration-color: #008080\">│</span>  <span style=\"color: #008080; text-decoration-color: #008080; font-weight: bold\">Crew Execution Started</span>                                                                                         <span style=\"color: #008080; text-decoration-color: #008080\">│</span>\n",
       "<span style=\"color: #008080; text-decoration-color: #008080\">│</span>  <span style=\"color: #c0c0c0; text-decoration-color: #c0c0c0\">Name: </span><span style=\"color: #008080; text-decoration-color: #008080\">crew</span>                                                                                                     <span style=\"color: #008080; text-decoration-color: #008080\">│</span>\n",
       "<span style=\"color: #008080; text-decoration-color: #008080\">│</span>  <span style=\"color: #c0c0c0; text-decoration-color: #c0c0c0\">ID: </span><span style=\"color: #008080; text-decoration-color: #008080\">e67da0f1-e638-4667-8db6-0f213b9ee51f</span>                                                                       <span style=\"color: #008080; text-decoration-color: #008080\">│</span>\n",
       "<span style=\"color: #008080; text-decoration-color: #008080\">│</span>                                                                                                                 <span style=\"color: #008080; text-decoration-color: #008080\">│</span>\n",
       "<span style=\"color: #008080; text-decoration-color: #008080\">│</span>                                                                                                                 <span style=\"color: #008080; text-decoration-color: #008080\">│</span>\n",
       "<span style=\"color: #008080; text-decoration-color: #008080\">╰─────────────────────────────────────────────────────────────────────────────────────────────────────────────────╯</span>\n",
       "</pre>\n"
      ],
      "text/plain": [
       "\u001b[36m╭─\u001b[0m\u001b[36m───────────────────────────────────────────\u001b[0m\u001b[36m Crew Execution Started \u001b[0m\u001b[36m────────────────────────────────────────────\u001b[0m\u001b[36m─╮\u001b[0m\n",
       "\u001b[36m│\u001b[0m                                                                                                                 \u001b[36m│\u001b[0m\n",
       "\u001b[36m│\u001b[0m  \u001b[1;36mCrew Execution Started\u001b[0m                                                                                         \u001b[36m│\u001b[0m\n",
       "\u001b[36m│\u001b[0m  \u001b[37mName: \u001b[0m\u001b[36mcrew\u001b[0m                                                                                                     \u001b[36m│\u001b[0m\n",
       "\u001b[36m│\u001b[0m  \u001b[37mID: \u001b[0m\u001b[36me67da0f1-e638-4667-8db6-0f213b9ee51f\u001b[0m                                                                       \u001b[36m│\u001b[0m\n",
       "\u001b[36m│\u001b[0m                                                                                                                 \u001b[36m│\u001b[0m\n",
       "\u001b[36m│\u001b[0m                                                                                                                 \u001b[36m│\u001b[0m\n",
       "\u001b[36m╰─────────────────────────────────────────────────────────────────────────────────────────────────────────────────╯\u001b[0m\n"
      ]
     },
     "metadata": {},
     "output_type": "display_data"
    },
    {
     "data": {
      "text/html": [
       "<pre style=\"white-space:pre;overflow-x:auto;line-height:normal;font-family:Menlo,'DejaVu Sans Mono',consolas,'Courier New',monospace\">\n",
       "</pre>\n"
      ],
      "text/plain": [
       "\n"
      ]
     },
     "metadata": {},
     "output_type": "display_data"
    },
    {
     "data": {
      "text/html": [
       "<pre style=\"white-space:pre;overflow-x:auto;line-height:normal;font-family:Menlo,'DejaVu Sans Mono',consolas,'Courier New',monospace\"><span style=\"color: #008080; text-decoration-color: #008080; font-weight: bold\">🚀 Crew: crew</span>\n",
       "└── <span style=\"color: #808000; text-decoration-color: #808000; font-weight: bold\">📋 Task: a536e8e0-e154-45a0-af6a-050183d1c443</span>\n",
       "    <span style=\"color: #c0c0c0; text-decoration-color: #c0c0c0\">   Status: </span><span style=\"color: #bfbf7f; text-decoration-color: #bfbf7f\">Executing Task...</span>\n",
       "</pre>\n"
      ],
      "text/plain": [
       "\u001b[1;36m🚀 Crew: \u001b[0m\u001b[1;36mcrew\u001b[0m\n",
       "└── \u001b[1;33m📋 Task: a536e8e0-e154-45a0-af6a-050183d1c443\u001b[0m\n",
       "    \u001b[37m   Status: \u001b[0m\u001b[2;33mExecuting Task...\u001b[0m\n"
      ]
     },
     "metadata": {},
     "output_type": "display_data"
    },
    {
     "data": {
      "text/html": [
       "<pre style=\"white-space:pre;overflow-x:auto;line-height:normal;font-family:Menlo,'DejaVu Sans Mono',consolas,'Courier New',monospace\">\n",
       "</pre>\n"
      ],
      "text/plain": [
       "\n"
      ]
     },
     "metadata": {},
     "output_type": "display_data"
    },
    {
     "data": {
      "text/html": [
       "<pre style=\"white-space:pre;overflow-x:auto;line-height:normal;font-family:Menlo,'DejaVu Sans Mono',consolas,'Courier New',monospace\"><span style=\"color: #008080; text-decoration-color: #008080; font-weight: bold\">🚀 Crew: crew</span>\n",
       "└── <span style=\"color: #808000; text-decoration-color: #808000; font-weight: bold\">📋 Task: a536e8e0-e154-45a0-af6a-050183d1c443</span>\n",
       "    <span style=\"color: #c0c0c0; text-decoration-color: #c0c0c0\">   Status: </span><span style=\"color: #bfbf7f; text-decoration-color: #bfbf7f\">Executing Task...</span>\n",
       "    └── <span style=\"color: #008000; text-decoration-color: #008000; font-weight: bold\">🤖 Agent: </span><span style=\"color: #008000; text-decoration-color: #008000\">Interview Researcher</span>\n",
       "        <span style=\"color: #c0c0c0; text-decoration-color: #c0c0c0\">    Status: </span><span style=\"color: #008000; text-decoration-color: #008000; font-weight: bold\">In Progress</span>\n",
       "</pre>\n"
      ],
      "text/plain": [
       "\u001b[1;36m🚀 Crew: \u001b[0m\u001b[1;36mcrew\u001b[0m\n",
       "└── \u001b[1;33m📋 Task: a536e8e0-e154-45a0-af6a-050183d1c443\u001b[0m\n",
       "    \u001b[37m   Status: \u001b[0m\u001b[2;33mExecuting Task...\u001b[0m\n",
       "    └── \u001b[1;32m🤖 Agent: \u001b[0m\u001b[32mInterview Researcher\u001b[0m\n",
       "        \u001b[37m    Status: \u001b[0m\u001b[1;32mIn Progress\u001b[0m\n"
      ]
     },
     "metadata": {},
     "output_type": "display_data"
    },
    {
     "data": {
      "text/html": [
       "<pre style=\"white-space:pre;overflow-x:auto;line-height:normal;font-family:Menlo,'DejaVu Sans Mono',consolas,'Courier New',monospace\">\n",
       "</pre>\n"
      ],
      "text/plain": [
       "\n"
      ]
     },
     "metadata": {},
     "output_type": "display_data"
    },
    {
     "name": "stdout",
     "output_type": "stream",
     "text": [
      "\u001b[1m\u001b[95m# Agent:\u001b[00m \u001b[1m\u001b[92mInterview Researcher\u001b[00m\n",
      "\u001b[95m## Task:\u001b[00m \u001b[92mResearch and create three questions to be asked in a job interview for the job role of Senior Python Developer. Analyze the job description and create relevant technical and behavioral questions that assess candidate competency. For each question, define clear scoring criteria that enables objective evaluation.\u001b[00m\n"
     ]
    },
    {
     "data": {
      "text/html": [
       "<pre style=\"white-space:pre;overflow-x:auto;line-height:normal;font-family:Menlo,'DejaVu Sans Mono',consolas,'Courier New',monospace\"><span style=\"color: #008080; text-decoration-color: #008080; font-weight: bold\">🚀 Crew: crew</span>\n",
       "└── <span style=\"color: #808000; text-decoration-color: #808000; font-weight: bold\">📋 Task: a536e8e0-e154-45a0-af6a-050183d1c443</span>\n",
       "    <span style=\"color: #c0c0c0; text-decoration-color: #c0c0c0\">   Status: </span><span style=\"color: #bfbf7f; text-decoration-color: #bfbf7f\">Executing Task...</span>\n",
       "    └── <span style=\"color: #008000; text-decoration-color: #008000; font-weight: bold\">🤖 Agent: </span><span style=\"color: #008000; text-decoration-color: #008000\">Interview Researcher</span>\n",
       "        <span style=\"color: #c0c0c0; text-decoration-color: #c0c0c0\">    Status: </span><span style=\"color: #008000; text-decoration-color: #008000; font-weight: bold\">In Progress</span>\n",
       "        └── <span style=\"color: #000080; text-decoration-color: #000080; font-weight: bold\">🧠 </span><span style=\"color: #000080; text-decoration-color: #000080\">Thinking...</span>\n",
       "</pre>\n"
      ],
      "text/plain": [
       "\u001b[1;36m🚀 Crew: \u001b[0m\u001b[1;36mcrew\u001b[0m\n",
       "└── \u001b[1;33m📋 Task: a536e8e0-e154-45a0-af6a-050183d1c443\u001b[0m\n",
       "    \u001b[37m   Status: \u001b[0m\u001b[2;33mExecuting Task...\u001b[0m\n",
       "    └── \u001b[1;32m🤖 Agent: \u001b[0m\u001b[32mInterview Researcher\u001b[0m\n",
       "        \u001b[37m    Status: \u001b[0m\u001b[1;32mIn Progress\u001b[0m\n",
       "        └── \u001b[1;34m🧠 \u001b[0m\u001b[34mThinking...\u001b[0m\n"
      ]
     },
     "metadata": {},
     "output_type": "display_data"
    },
    {
     "data": {
      "text/html": [
       "<pre style=\"white-space:pre;overflow-x:auto;line-height:normal;font-family:Menlo,'DejaVu Sans Mono',consolas,'Courier New',monospace\">\n",
       "</pre>\n"
      ],
      "text/plain": [
       "\n"
      ]
     },
     "metadata": {},
     "output_type": "display_data"
    },
    {
     "data": {
      "text/html": [
       "<pre style=\"white-space:pre;overflow-x:auto;line-height:normal;font-family:Menlo,'DejaVu Sans Mono',consolas,'Courier New',monospace\"><span style=\"color: #008080; text-decoration-color: #008080; font-weight: bold\">🚀 Crew: crew</span>\n",
       "└── <span style=\"color: #808000; text-decoration-color: #808000; font-weight: bold\">📋 Task: a536e8e0-e154-45a0-af6a-050183d1c443</span>\n",
       "    <span style=\"color: #c0c0c0; text-decoration-color: #c0c0c0\">   Status: </span><span style=\"color: #bfbf7f; text-decoration-color: #bfbf7f\">Executing Task...</span>\n",
       "    └── <span style=\"color: #008000; text-decoration-color: #008000; font-weight: bold\">🤖 Agent: </span><span style=\"color: #008000; text-decoration-color: #008000\">Interview Researcher</span>\n",
       "        <span style=\"color: #c0c0c0; text-decoration-color: #c0c0c0\">    Status: </span><span style=\"color: #008000; text-decoration-color: #008000; font-weight: bold\">In Progress</span>\n",
       "</pre>\n"
      ],
      "text/plain": [
       "\u001b[1;36m🚀 Crew: \u001b[0m\u001b[1;36mcrew\u001b[0m\n",
       "└── \u001b[1;33m📋 Task: a536e8e0-e154-45a0-af6a-050183d1c443\u001b[0m\n",
       "    \u001b[37m   Status: \u001b[0m\u001b[2;33mExecuting Task...\u001b[0m\n",
       "    └── \u001b[1;32m🤖 Agent: \u001b[0m\u001b[32mInterview Researcher\u001b[0m\n",
       "        \u001b[37m    Status: \u001b[0m\u001b[1;32mIn Progress\u001b[0m\n"
      ]
     },
     "metadata": {},
     "output_type": "display_data"
    },
    {
     "data": {
      "text/html": [
       "<pre style=\"white-space:pre;overflow-x:auto;line-height:normal;font-family:Menlo,'DejaVu Sans Mono',consolas,'Courier New',monospace\">\n",
       "</pre>\n"
      ],
      "text/plain": [
       "\n"
      ]
     },
     "metadata": {},
     "output_type": "display_data"
    },
    {
     "name": "stdout",
     "output_type": "stream",
     "text": [
      "\n",
      "\n",
      "\u001b[1m\u001b[95m# Agent:\u001b[00m \u001b[1m\u001b[92mInterview Researcher\u001b[00m\n",
      "\u001b[95m## Final Answer:\u001b[00m \u001b[92m\n",
      "### Question 1: What are the key responsibilities of designing and implementing high-performance, scalable Python applications?\n",
      "\n",
      "- **Difficulty**: Medium-High\n",
      "- **Answer Criteria**:\n",
      "    + Depth (10 points): Can the candidate describe specific technologies and frameworks used for building scalable Python applications?\n",
      "    + Accuracy (20 points): Are they confident in their ability to design and implement high-performance applications using Python best practices?\n",
      "    + Relevance (30 points): Is the answer relevant to the role and industry standard practices?\n",
      "\n",
      "### Question 2: How do you ensure code maintainability, testability, and quality in your Python applications?\n",
      "\n",
      "- **Difficulty**: Medium\n",
      "- **Answer Criteria**:\n",
      "    + Depth (10 points): Can the candidate explain their approach to writing clean, modular, and reusable code?\n",
      "    + Accuracy (20 points): Are they confident in their ability to write tests for their applications using various testing frameworks?\n",
      "    + Relevance (30 points): Is the answer relevant to industry standards and best practices for maintaining high-quality Python applications?\n",
      "\n",
      "### Question 3: How do you handle technical debt, integrate third-party services, and optimize backend services in your work as a Senior Python Developer?\n",
      "\n",
      "- **Difficulty**: Medium-High\n",
      "- **Answer Criteria**:\n",
      "    + Depth (10 points): Can the candidate describe specific scenarios where they would use containerization (Docker) and CI/CD pipelines?\n",
      "    + Accuracy (20 points): Are they confident in their ability to integrate third-party services using RESTful APIs and microservices architecture?\n",
      "    + Relevance (30 points): Is the answer relevant to industry best practices for handling technical debt, optimizing backend services, and ensuring scalability?\u001b[00m\n",
      "\n",
      "\n"
     ]
    },
    {
     "data": {
      "text/html": [
       "<pre style=\"white-space:pre;overflow-x:auto;line-height:normal;font-family:Menlo,'DejaVu Sans Mono',consolas,'Courier New',monospace\"><span style=\"color: #008080; text-decoration-color: #008080; font-weight: bold\">🚀 Crew: crew</span>\n",
       "└── <span style=\"color: #808000; text-decoration-color: #808000; font-weight: bold\">📋 Task: a536e8e0-e154-45a0-af6a-050183d1c443</span>\n",
       "    <span style=\"color: #c0c0c0; text-decoration-color: #c0c0c0\">   Status: </span><span style=\"color: #bfbf7f; text-decoration-color: #bfbf7f\">Executing Task...</span>\n",
       "    └── <span style=\"color: #008000; text-decoration-color: #008000; font-weight: bold\">🤖 Agent: </span><span style=\"color: #008000; text-decoration-color: #008000\">Interview Researcher</span>\n",
       "        <span style=\"color: #c0c0c0; text-decoration-color: #c0c0c0\">    Status: </span><span style=\"color: #008000; text-decoration-color: #008000; font-weight: bold\">✅ Completed</span>\n",
       "</pre>\n"
      ],
      "text/plain": [
       "\u001b[1;36m🚀 Crew: \u001b[0m\u001b[1;36mcrew\u001b[0m\n",
       "└── \u001b[1;33m📋 Task: a536e8e0-e154-45a0-af6a-050183d1c443\u001b[0m\n",
       "    \u001b[37m   Status: \u001b[0m\u001b[2;33mExecuting Task...\u001b[0m\n",
       "    └── \u001b[1;32m🤖 Agent: \u001b[0m\u001b[32mInterview Researcher\u001b[0m\n",
       "        \u001b[37m    Status: \u001b[0m\u001b[1;32m✅ Completed\u001b[0m\n"
      ]
     },
     "metadata": {},
     "output_type": "display_data"
    },
    {
     "data": {
      "text/html": [
       "<pre style=\"white-space:pre;overflow-x:auto;line-height:normal;font-family:Menlo,'DejaVu Sans Mono',consolas,'Courier New',monospace\">\n",
       "</pre>\n"
      ],
      "text/plain": [
       "\n"
      ]
     },
     "metadata": {},
     "output_type": "display_data"
    },
    {
     "name": "stderr",
     "output_type": "stream",
     "text": [
      "/Users/sonubardai/Desktop/AgentAi/interview_ai/venv/lib/python3.11/site-packages/httpx/_content.py:204: DeprecationWarning: Use 'content=<...>' to upload raw bytes/text content.\n",
      "  warnings.warn(message, DeprecationWarning)\n"
     ]
    },
    {
     "name": "stdout",
     "output_type": "stream",
     "text": [
      "\n",
      "\u001b[1;31mGive Feedback / Get Help: https://github.com/BerriAI/litellm/issues/new\u001b[0m\n",
      "LiteLLM.Info: If you need to debug this error, use `litellm._turn_on_debug()'.\n",
      "\n",
      "\n",
      "\u001b[1;31mProvider List: https://docs.litellm.ai/docs/providers\u001b[0m\n",
      "\n"
     ]
    },
    {
     "name": "stderr",
     "output_type": "stream",
     "text": [
      "/Users/sonubardai/Desktop/AgentAi/interview_ai/venv/lib/python3.11/site-packages/httpx/_content.py:204: DeprecationWarning: Use 'content=<...>' to upload raw bytes/text content.\n",
      "  warnings.warn(message, DeprecationWarning)\n"
     ]
    },
    {
     "name": "stdout",
     "output_type": "stream",
     "text": [
      "\n",
      "\u001b[1;31mGive Feedback / Get Help: https://github.com/BerriAI/litellm/issues/new\u001b[0m\n",
      "LiteLLM.Info: If you need to debug this error, use `litellm._turn_on_debug()'.\n",
      "\n",
      "\n",
      "\u001b[1;31mProvider List: https://docs.litellm.ai/docs/providers\u001b[0m\n",
      "\n"
     ]
    },
    {
     "name": "stderr",
     "output_type": "stream",
     "text": [
      "/Users/sonubardai/Desktop/AgentAi/interview_ai/venv/lib/python3.11/site-packages/httpx/_content.py:204: DeprecationWarning: Use 'content=<...>' to upload raw bytes/text content.\n",
      "  warnings.warn(message, DeprecationWarning)\n"
     ]
    },
    {
     "name": "stdout",
     "output_type": "stream",
     "text": [
      "\n",
      "\u001b[1;31mGive Feedback / Get Help: https://github.com/BerriAI/litellm/issues/new\u001b[0m\n",
      "LiteLLM.Info: If you need to debug this error, use `litellm._turn_on_debug()'.\n",
      "\n",
      "\n",
      "\u001b[1;31mProvider List: https://docs.litellm.ai/docs/providers\u001b[0m\n",
      "\n",
      "\n",
      "\u001b[1;31mGive Feedback / Get Help: https://github.com/BerriAI/litellm/issues/new\u001b[0m\n",
      "LiteLLM.Info: If you need to debug this error, use `litellm._turn_on_debug()'.\n",
      "\n",
      "\n",
      "\u001b[1;31mProvider List: https://docs.litellm.ai/docs/providers\u001b[0m\n",
      "\n"
     ]
    },
    {
     "name": "stderr",
     "output_type": "stream",
     "text": [
      "/Users/sonubardai/Desktop/AgentAi/interview_ai/venv/lib/python3.11/site-packages/httpx/_content.py:204: DeprecationWarning: Use 'content=<...>' to upload raw bytes/text content.\n",
      "  warnings.warn(message, DeprecationWarning)\n"
     ]
    },
    {
     "name": "stdout",
     "output_type": "stream",
     "text": [
      "\n",
      "\u001b[1;31mGive Feedback / Get Help: https://github.com/BerriAI/litellm/issues/new\u001b[0m\n",
      "LiteLLM.Info: If you need to debug this error, use `litellm._turn_on_debug()'.\n",
      "\n",
      "\n",
      "\u001b[1;31mProvider List: https://docs.litellm.ai/docs/providers\u001b[0m\n",
      "\n",
      "\u001b[91m Failed to convert text into JSON, error: 3 validation errors for InterviewQuestion\n",
      "question\n",
      "  Field required [type=missing, input_value={'properties': {'keyRespo... Python applications?'}}, input_type=dict]\n",
      "    For further information visit https://errors.pydantic.dev/2.10/v/missing\n",
      "difficulty\n",
      "  Field required [type=missing, input_value={'properties': {'keyRespo... Python applications?'}}, input_type=dict]\n",
      "    For further information visit https://errors.pydantic.dev/2.10/v/missing\n",
      "answer_criteria\n",
      "  Field required [type=missing, input_value={'properties': {'keyRespo... Python applications?'}}, input_type=dict]\n",
      "    For further information visit https://errors.pydantic.dev/2.10/v/missing. Using raw output instead.\u001b[00m\n"
     ]
    },
    {
     "data": {
      "text/html": [
       "<pre style=\"white-space:pre;overflow-x:auto;line-height:normal;font-family:Menlo,'DejaVu Sans Mono',consolas,'Courier New',monospace\"><span style=\"color: #008080; text-decoration-color: #008080; font-weight: bold\">🚀 Crew: crew</span>\n",
       "└── <span style=\"color: #008000; text-decoration-color: #008000; font-weight: bold\">📋 Task: a536e8e0-e154-45a0-af6a-050183d1c443</span>\n",
       "    <span style=\"color: #c0c0c0; text-decoration-color: #c0c0c0\">   Assigned to: </span><span style=\"color: #008000; text-decoration-color: #008000\">Interview Researcher</span>\n",
       "    <span style=\"color: #c0c0c0; text-decoration-color: #c0c0c0\">   Status: </span><span style=\"color: #008000; text-decoration-color: #008000; font-weight: bold\">✅ Completed</span>\n",
       "    └── <span style=\"color: #008000; text-decoration-color: #008000; font-weight: bold\">🤖 Agent: </span><span style=\"color: #008000; text-decoration-color: #008000\">Interview Researcher</span>\n",
       "        <span style=\"color: #c0c0c0; text-decoration-color: #c0c0c0\">    Status: </span><span style=\"color: #008000; text-decoration-color: #008000; font-weight: bold\">✅ Completed</span>\n",
       "</pre>\n"
      ],
      "text/plain": [
       "\u001b[1;36m🚀 Crew: \u001b[0m\u001b[1;36mcrew\u001b[0m\n",
       "└── \u001b[1;32m📋 Task: a536e8e0-e154-45a0-af6a-050183d1c443\u001b[0m\n",
       "    \u001b[37m   Assigned to: \u001b[0m\u001b[32mInterview Researcher\u001b[0m\n",
       "    \u001b[37m   Status: \u001b[0m\u001b[1;32m✅ Completed\u001b[0m\n",
       "    └── \u001b[1;32m🤖 Agent: \u001b[0m\u001b[32mInterview Researcher\u001b[0m\n",
       "        \u001b[37m    Status: \u001b[0m\u001b[1;32m✅ Completed\u001b[0m\n"
      ]
     },
     "metadata": {},
     "output_type": "display_data"
    },
    {
     "data": {
      "text/html": [
       "<pre style=\"white-space:pre;overflow-x:auto;line-height:normal;font-family:Menlo,'DejaVu Sans Mono',consolas,'Courier New',monospace\"><span style=\"color: #008000; text-decoration-color: #008000\">╭──────────────────────────────────────────────── Task Completion ────────────────────────────────────────────────╮</span>\n",
       "<span style=\"color: #008000; text-decoration-color: #008000\">│</span>                                                                                                                 <span style=\"color: #008000; text-decoration-color: #008000\">│</span>\n",
       "<span style=\"color: #008000; text-decoration-color: #008000\">│</span>  <span style=\"color: #008000; text-decoration-color: #008000; font-weight: bold\">Task Completed</span>                                                                                                 <span style=\"color: #008000; text-decoration-color: #008000\">│</span>\n",
       "<span style=\"color: #008000; text-decoration-color: #008000\">│</span>  <span style=\"color: #c0c0c0; text-decoration-color: #c0c0c0\">Name: </span><span style=\"color: #008000; text-decoration-color: #008000\">a536e8e0-e154-45a0-af6a-050183d1c443</span>                                                                     <span style=\"color: #008000; text-decoration-color: #008000\">│</span>\n",
       "<span style=\"color: #008000; text-decoration-color: #008000\">│</span>  <span style=\"color: #c0c0c0; text-decoration-color: #c0c0c0\">Agent: </span><span style=\"color: #008000; text-decoration-color: #008000\">Interview Researcher</span>                                                                                    <span style=\"color: #008000; text-decoration-color: #008000\">│</span>\n",
       "<span style=\"color: #008000; text-decoration-color: #008000\">│</span>                                                                                                                 <span style=\"color: #008000; text-decoration-color: #008000\">│</span>\n",
       "<span style=\"color: #008000; text-decoration-color: #008000\">│</span>                                                                                                                 <span style=\"color: #008000; text-decoration-color: #008000\">│</span>\n",
       "<span style=\"color: #008000; text-decoration-color: #008000\">╰─────────────────────────────────────────────────────────────────────────────────────────────────────────────────╯</span>\n",
       "</pre>\n"
      ],
      "text/plain": [
       "\u001b[32m╭─\u001b[0m\u001b[32m───────────────────────────────────────────────\u001b[0m\u001b[32m Task Completion \u001b[0m\u001b[32m───────────────────────────────────────────────\u001b[0m\u001b[32m─╮\u001b[0m\n",
       "\u001b[32m│\u001b[0m                                                                                                                 \u001b[32m│\u001b[0m\n",
       "\u001b[32m│\u001b[0m  \u001b[1;32mTask Completed\u001b[0m                                                                                                 \u001b[32m│\u001b[0m\n",
       "\u001b[32m│\u001b[0m  \u001b[37mName: \u001b[0m\u001b[32ma536e8e0-e154-45a0-af6a-050183d1c443\u001b[0m                                                                     \u001b[32m│\u001b[0m\n",
       "\u001b[32m│\u001b[0m  \u001b[37mAgent: \u001b[0m\u001b[32mInterview Researcher\u001b[0m                                                                                    \u001b[32m│\u001b[0m\n",
       "\u001b[32m│\u001b[0m                                                                                                                 \u001b[32m│\u001b[0m\n",
       "\u001b[32m│\u001b[0m                                                                                                                 \u001b[32m│\u001b[0m\n",
       "\u001b[32m╰─────────────────────────────────────────────────────────────────────────────────────────────────────────────────╯\u001b[0m\n"
      ]
     },
     "metadata": {},
     "output_type": "display_data"
    },
    {
     "data": {
      "text/html": [
       "<pre style=\"white-space:pre;overflow-x:auto;line-height:normal;font-family:Menlo,'DejaVu Sans Mono',consolas,'Courier New',monospace\">\n",
       "</pre>\n"
      ],
      "text/plain": [
       "\n"
      ]
     },
     "metadata": {},
     "output_type": "display_data"
    },
    {
     "data": {
      "text/html": [
       "<pre style=\"white-space:pre;overflow-x:auto;line-height:normal;font-family:Menlo,'DejaVu Sans Mono',consolas,'Courier New',monospace\"><span style=\"color: #008000; text-decoration-color: #008000\">╭──────────────────────────────────────────────── Crew Completion ────────────────────────────────────────────────╮</span>\n",
       "<span style=\"color: #008000; text-decoration-color: #008000\">│</span>                                                                                                                 <span style=\"color: #008000; text-decoration-color: #008000\">│</span>\n",
       "<span style=\"color: #008000; text-decoration-color: #008000\">│</span>  <span style=\"color: #008000; text-decoration-color: #008000; font-weight: bold\">Crew Execution Completed</span>                                                                                       <span style=\"color: #008000; text-decoration-color: #008000\">│</span>\n",
       "<span style=\"color: #008000; text-decoration-color: #008000\">│</span>  <span style=\"color: #c0c0c0; text-decoration-color: #c0c0c0\">Name: </span><span style=\"color: #008000; text-decoration-color: #008000\">crew</span>                                                                                                     <span style=\"color: #008000; text-decoration-color: #008000\">│</span>\n",
       "<span style=\"color: #008000; text-decoration-color: #008000\">│</span>  <span style=\"color: #c0c0c0; text-decoration-color: #c0c0c0\">ID: </span><span style=\"color: #008000; text-decoration-color: #008000\">e67da0f1-e638-4667-8db6-0f213b9ee51f</span>                                                                       <span style=\"color: #008000; text-decoration-color: #008000\">│</span>\n",
       "<span style=\"color: #008000; text-decoration-color: #008000\">│</span>                                                                                                                 <span style=\"color: #008000; text-decoration-color: #008000\">│</span>\n",
       "<span style=\"color: #008000; text-decoration-color: #008000\">│</span>                                                                                                                 <span style=\"color: #008000; text-decoration-color: #008000\">│</span>\n",
       "<span style=\"color: #008000; text-decoration-color: #008000\">╰─────────────────────────────────────────────────────────────────────────────────────────────────────────────────╯</span>\n",
       "</pre>\n"
      ],
      "text/plain": [
       "\u001b[32m╭─\u001b[0m\u001b[32m───────────────────────────────────────────────\u001b[0m\u001b[32m Crew Completion \u001b[0m\u001b[32m───────────────────────────────────────────────\u001b[0m\u001b[32m─╮\u001b[0m\n",
       "\u001b[32m│\u001b[0m                                                                                                                 \u001b[32m│\u001b[0m\n",
       "\u001b[32m│\u001b[0m  \u001b[1;32mCrew Execution Completed\u001b[0m                                                                                       \u001b[32m│\u001b[0m\n",
       "\u001b[32m│\u001b[0m  \u001b[37mName: \u001b[0m\u001b[32mcrew\u001b[0m                                                                                                     \u001b[32m│\u001b[0m\n",
       "\u001b[32m│\u001b[0m  \u001b[37mID: \u001b[0m\u001b[32me67da0f1-e638-4667-8db6-0f213b9ee51f\u001b[0m                                                                       \u001b[32m│\u001b[0m\n",
       "\u001b[32m│\u001b[0m                                                                                                                 \u001b[32m│\u001b[0m\n",
       "\u001b[32m│\u001b[0m                                                                                                                 \u001b[32m│\u001b[0m\n",
       "\u001b[32m╰─────────────────────────────────────────────────────────────────────────────────────────────────────────────────╯\u001b[0m\n"
      ]
     },
     "metadata": {},
     "output_type": "display_data"
    },
    {
     "data": {
      "text/html": [
       "<pre style=\"white-space:pre;overflow-x:auto;line-height:normal;font-family:Menlo,'DejaVu Sans Mono',consolas,'Courier New',monospace\">\n",
       "</pre>\n"
      ],
      "text/plain": [
       "\n"
      ]
     },
     "metadata": {},
     "output_type": "display_data"
    }
   ],
   "source": [
    "result = interviewer_crew.kickoff(inputs=job_details)"
   ]
  },
  {
   "cell_type": "code",
   "execution_count": 147,
   "metadata": {},
   "outputs": [
    {
     "name": "stdout",
     "output_type": "stream",
     "text": [
      "OUTPUT FROM Interview Researcher: \n",
      "### Question 1: What are the key responsibilities of designing and implementing high-performance, scalable Python applications?\n",
      "\n",
      "- **Difficulty**: Medium-High\n",
      "- **Answer Criteria**:\n",
      "    + Depth (10 points): Can the candidate describe specific technologies and frameworks used for building scalable Python applications?\n",
      "    + Accuracy (20 points): Are they confident in their ability to design and implement high-performance applications using Python best practices?\n",
      "    + Relevance (30 points): Is the answer relevant to the role and industry standard practices?\n",
      "\n",
      "### Question 2: How do you ensure code maintainability, testability, and quality in your Python applications?\n",
      "\n",
      "- **Difficulty**: Medium\n",
      "- **Answer Criteria**:\n",
      "    + Depth (10 points): Can the candidate explain their approach to writing clean, modular, and reusable code?\n",
      "    + Accuracy (20 points): Are they confident in their ability to write tests for their applications using various testing frameworks?\n",
      "    + Relevance (30 points): Is the answer relevant to industry standards and best practices for maintaining high-quality Python applications?\n",
      "\n",
      "### Question 3: How do you handle technical debt, integrate third-party services, and optimize backend services in your work as a Senior Python Developer?\n",
      "\n",
      "- **Difficulty**: Medium-High\n",
      "- **Answer Criteria**:\n",
      "    + Depth (10 points): Can the candidate describe specific scenarios where they would use containerization (Docker) and CI/CD pipelines?\n",
      "    + Accuracy (20 points): Are they confident in their ability to integrate third-party services using RESTful APIs and microservices architecture?\n",
      "    + Relevance (30 points): Is the answer relevant to industry best practices for handling technical debt, optimizing backend services, and ensuring scalability?\n",
      "\n",
      "----------------------------\n",
      "\n"
     ]
    },
    {
     "data": {
      "text/plain": [
       "UsageMetrics(total_tokens=3838, prompt_tokens=2128, cached_prompt_tokens=0, completion_tokens=1710, successful_requests=3)"
      ]
     },
     "execution_count": 147,
     "metadata": {},
     "output_type": "execute_result"
    }
   ],
   "source": [
    "# result.tasks_output[0]\n",
    "for item in result.tasks_output:\n",
    "    print(f\"OUTPUT FROM {item.agent}: \")\n",
    "    print(item.raw)\n",
    "    print(\"\\n----------------------------\\n\")\n",
    "result.token_usage"
   ]
  },
  {
   "cell_type": "code",
   "execution_count": null,
   "metadata": {},
   "outputs": [],
   "source": []
  }
 ],
 "metadata": {
  "kernelspec": {
   "display_name": "venv",
   "language": "python",
   "name": "python3"
  },
  "language_info": {
   "codemirror_mode": {
    "name": "ipython",
    "version": 3
   },
   "file_extension": ".py",
   "mimetype": "text/x-python",
   "name": "python",
   "nbconvert_exporter": "python",
   "pygments_lexer": "ipython3",
   "version": "3.11.9"
  }
 },
 "nbformat": 4,
 "nbformat_minor": 4
}
